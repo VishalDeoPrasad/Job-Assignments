{
 "cells": [
  {
   "cell_type": "markdown",
   "metadata": {},
   "source": [
    "We are excited to invite you for a coding assignment as part of our hiring process for the position of AI/ML Engineer Intern. In the previous assignment, we provided you with a case study related to an electric vehicle (EV) manufacturing plant that wants to leverage AI, automation, and IoT to optimize its business operations.\n",
    "\n"
   ]
  },
  {
   "cell_type": "markdown",
   "metadata": {},
   "source": [
    "### Assignment\n",
    "https://www.lizmotors.com/internship-coding-assignment2024/\n",
    "+ In this assignment, we would like you to demonstrate how you would approach the task of gathering the required information for the case study using Python programming.\n",
    "+ Specifically, we want you to write a Python script that searches the internet for information related to __Canoo__, a __publicly traded company__ listed on __NASDAQ__ (ticker symbol: __GOEV__). \n",
    "+ Your script should retrieve data from various online sources and store it in a CSV file for further analysis.\n",
    "+ Here are the specific tasks you should perform:\n",
    "    1.  Identify the industry in which Canoo operates, along with its size, growth rate, trends, and key players.\n",
    "    1. Analyze Canoo's main competitors, including their market share, products or services offered, pricing strategies, and marketing efforts.\n",
    "    1. Identify key trends in the market, including changes in consumer behavior, technological advancements, and shifts in the competitive landscape.\n",
    "    1. Gather information on Canoo's financial performance, including its revenue, profit margins, return on investment, and expense structure."
   ]
  },
  {
   "cell_type": "markdown",
   "metadata": {},
   "source": [
    "#### Submission\n",
    "In your submission, please include the following:\n",
    "1. Your Name, contact details and email address\n",
    "1. A brief summary of the steps you took to complete the task, including any challenges you faced and how you overcame them.\n",
    "1. A link to a GitHub repository containing your Python script and any necessary dependencies.\n",
    "1. A sample output of the data retrieved from the internet, stored in a CSV file or other suitable format.\n"
   ]
  },
  {
   "cell_type": "code",
   "execution_count": 4,
   "metadata": {},
   "outputs": [],
   "source": [
    "import requests\n",
    "from bs4 import BeautifulSoup\n",
    "import pandas as pd"
   ]
  },
  {
   "cell_type": "code",
   "execution_count": 26,
   "metadata": {},
   "outputs": [],
   "source": [
    "from googlesearch import search\n",
    "def search_google(query):\n",
    "    links = []\n",
    "    for link in search(query, tld=\"com\", num=15, stop=10, pause=1):\n",
    "        links.append(link)\n",
    "    return links"
   ]
  },
  {
   "cell_type": "code",
   "execution_count": 29,
   "metadata": {},
   "outputs": [
    {
     "name": "stdout",
     "output_type": "stream",
     "text": [
      "Query that is being searched right now : Canoo financial performance revenue, profit margins, return on investment, expense structure\n",
      "\n",
      "List of all the urls for the above query : ['https://investors.canoo.com/financial-information/income-statement', 'https://investors.canoo.com/sec-filings/all-sec-filings/content/0001628280-23-009932/0001628280-23-009932.pdf', 'https://www.wsj.com/market-data/quotes/GOEV/financials', 'https://in.investing.com/equities/hennessy-capital-acquisition-corp-financial-summary', 'https://investors.canoo.com/sec-filings/annual-reports/content/0001628280-22-004514/0001628280-22-004514.pdf', 'https://www.sec.gov/Archives/edgar/data/1750153/000121390021001996/fs12021_canooinc.htm', 'https://www.theglobeandmail.com/investing/markets/stocks/GOEV/pressreleases/23693074/where-will-canoo-stock-be-in-1-year/', 'https://finpedia.co/bin/Canoo%20Inc./', 'https://investors.canoo.com/sec-filings/all-sec-filings/content/0001140361-24-002743/0001140361-24-002743.pdf', 'https://simplywall.st/stocks/us/automobiles/nasdaq-goev/canoo']\n",
      "\n",
      "\n",
      "Query that is being searched right now : Canoo industry size, growth rate, trends, key players\n",
      "\n",
      "List of all the urls for the above query : ['https://www.linkedin.com/pulse/canoe-market-trends-growth-perspectives-shhje/', 'https://www.linkedin.com/pulse/canoe-market-size-growth-trends-report-2024-2030-dj66f', 'https://www.verifiedmarketreports.com/product/canoe-and-kayak-market/', 'https://investors.canoo.com/news-presentations/press-releases/detail/122/canoo-created-over-100-jobs-in-state-of-oklahoma-to-scale', 'https://journalrecord.com/2022/11/report-charts-ev-industrys-growth-trajectory-cites-canoo/', 'https://www.globaldata.com/store/report/canoo-inc-company-profile/', 'https://en.wikipedia.org/wiki/Canoo', 'https://investors.canoo.com/news-presentations/press-releases/detail/125/canoo-successfully-expands-zeebas-fleet-with-electric', 'https://finance.yahoo.com/quote/GOEV/', 'https://trendspider.com/markets/symbols/GOEV/']\n",
      "\n",
      "\n",
      "Query that is being searched right now : Canoo main competitors market share, products, pricing, marketing\n",
      "\n",
      "List of all the urls for the above query : ['https://www.linkedin.com/pulse/2023-analysis-canoe-kayak-market-share-products-1f?trk=pulse-article_more-articles_related-content-card', 'https://www.linkedin.com/pulse/canoe-market-demand-competitive-analysis-key-462wf', 'https://www.macroaxis.com/competition/GOEV', 'https://www.globaldata.com/company-profile/canoo-inc/competitors/?scalar=true&pid=45659&sid=29', 'https://dcf.fm/blogs/blog/goev-marketing-mix', 'https://www.profsharemarketresearch.com/canoe-market/', 'https://store.marketline.com/report/canoo-inc-swot-analysis/', 'https://www.press.canoo.com/press-release/merger-announcement', 'https://www.statista.com/topics/2086/tesla/', 'https://www.fool.com/investing/2023/08/15/why-canoo-lucid-and-rivian-stocks-all-just-dropped/']\n",
      "\n",
      "\n",
      "Query that is being searched right now : Market trends changes in consumer behavior, technological advancements, competitive landscape\n",
      "\n",
      "List of all the urls for the above query : ['https://fastercapital.com/startup-topic/market-trends-and-consumer-behavior.html', 'https://www.linkedin.com/pulse/evolution-consumer-behavior-marketing-trends-stay-ahead', 'https://www.mikevestil.com/market-trends/', 'https://www.linkedin.com/pulse/changing-landscape-consumer-behavior-fmcg-industry-doingsoon', 'https://www.thekeenfolks.com/blog-article/the-impact-of-technology-on-consumer-behaviour', 'https://www.market-xcel.com/blogs/navigating-the-shifting-tides-consumer-behaviour-trends', 'https://www.researchgate.net/publication/374436215_Technological_Innovation_in_Marketing_and_its_Effect_on_Consumer_Behaviour', 'https://fastercapital.com/startup-topic/trends-and-changes-in-consumer.html', 'https://growthnatives.com/blogs/digital-marketing/what-are-the-key-marketing-trends/', 'https://kadence.com/15-consumer-trends-to-watch-in-2024/']\n",
      "\n",
      "\n"
     ]
    }
   ],
   "source": [
    "queries = [\n",
    "    \"Canoo financial performance revenue, profit margins, return on investment, expense structure\", \n",
    "    \"Canoo industry size, growth rate, trends, key players\",\n",
    "    \"Canoo main competitors market share, products, pricing, marketing\", \n",
    "    \"Market trends changes in consumer behavior, technological advancements, competitive landscape\"\n",
    "    ]\n",
    "\n",
    "for query_I, query in enumerate(queries):\n",
    "    print(f\"Query that is being searched right now : {query}\\n\")\n",
    "    url_list = search_google(query)\n",
    "    print(f\"List of all the urls for the above query : {str(url_list)}\\n\\n\")"
   ]
  },
  {
   "cell_type": "code",
   "execution_count": 31,
   "metadata": {},
   "outputs": [
    {
     "ename": "ModuleNotFoundError",
     "evalue": "No module named 'pwd'",
     "output_type": "error",
     "traceback": [
      "\u001b[1;31m---------------------------------------------------------------------------\u001b[0m",
      "\u001b[1;31mModuleNotFoundError\u001b[0m                       Traceback (most recent call last)",
      "Cell \u001b[1;32mIn[31], line 7\u001b[0m\n\u001b[0;32m      4\u001b[0m \u001b[38;5;28;01mfrom\u001b[39;00m \u001b[38;5;21;01mselenium\u001b[39;00m\u001b[38;5;21;01m.\u001b[39;00m\u001b[38;5;21;01mwebdriver\u001b[39;00m\u001b[38;5;21;01m.\u001b[39;00m\u001b[38;5;21;01msupport\u001b[39;00m \u001b[38;5;28;01mimport\u001b[39;00m expected_conditions \u001b[38;5;28;01mas\u001b[39;00m EC\n\u001b[0;32m      5\u001b[0m \u001b[38;5;28;01mfrom\u001b[39;00m \u001b[38;5;21;01mselenium\u001b[39;00m\u001b[38;5;21;01m.\u001b[39;00m\u001b[38;5;21;01mcommon\u001b[39;00m\u001b[38;5;21;01m.\u001b[39;00m\u001b[38;5;21;01mexceptions\u001b[39;00m \u001b[38;5;28;01mimport\u001b[39;00m TimeoutException\n\u001b[1;32m----> 7\u001b[0m \u001b[38;5;28;01mfrom\u001b[39;00m \u001b[38;5;21;01mlangchain\u001b[39;00m\u001b[38;5;21;01m.\u001b[39;00m\u001b[38;5;21;01mdocument_loaders\u001b[39;00m \u001b[38;5;28;01mimport\u001b[39;00m PyMuPDFLoader\n\u001b[0;32m      8\u001b[0m \u001b[38;5;28;01mfrom\u001b[39;00m \u001b[38;5;21;01mlangchain\u001b[39;00m\u001b[38;5;21;01m.\u001b[39;00m\u001b[38;5;21;01mretrievers\u001b[39;00m \u001b[38;5;28;01mimport\u001b[39;00m ArxivRetriever\n\u001b[0;32m     10\u001b[0m \u001b[38;5;28;01mdef\u001b[39;00m \u001b[38;5;21mscrape_data\u001b[39m(url):\n",
      "File \u001b[1;32m~\\AppData\\Local\\Packages\\PythonSoftwareFoundation.Python.3.12_qbz5n2kfra8p0\\LocalCache\\local-packages\\Python312\\site-packages\\langchain\\document_loaders\\__init__.py:32\u001b[0m, in \u001b[0;36m__getattr__\u001b[1;34m(name)\u001b[0m\n\u001b[0;32m     31\u001b[0m \u001b[38;5;28;01mdef\u001b[39;00m \u001b[38;5;21m__getattr__\u001b[39m(name: \u001b[38;5;28mstr\u001b[39m) \u001b[38;5;241m-\u001b[39m\u001b[38;5;241m>\u001b[39m Any:\n\u001b[1;32m---> 32\u001b[0m     \u001b[38;5;28;01mfrom\u001b[39;00m \u001b[38;5;21;01mlangchain_community\u001b[39;00m \u001b[38;5;28;01mimport\u001b[39;00m document_loaders\n\u001b[0;32m     34\u001b[0m     \u001b[38;5;66;03m# If not in interactive env, raise warning.\u001b[39;00m\n\u001b[0;32m     35\u001b[0m     \u001b[38;5;28;01mif\u001b[39;00m \u001b[38;5;129;01mnot\u001b[39;00m is_interactive_env():\n",
      "File \u001b[1;32m~\\AppData\\Local\\Packages\\PythonSoftwareFoundation.Python.3.12_qbz5n2kfra8p0\\LocalCache\\local-packages\\Python312\\site-packages\\langchain_community\\document_loaders\\__init__.py:163\u001b[0m\n\u001b[0;32m    149\u001b[0m \u001b[38;5;28;01mfrom\u001b[39;00m \u001b[38;5;21;01mlangchain_community\u001b[39;00m\u001b[38;5;21;01m.\u001b[39;00m\u001b[38;5;21;01mdocument_loaders\u001b[39;00m\u001b[38;5;21;01m.\u001b[39;00m\u001b[38;5;21;01morg_mode\u001b[39;00m \u001b[38;5;28;01mimport\u001b[39;00m UnstructuredOrgModeLoader\n\u001b[0;32m    150\u001b[0m \u001b[38;5;28;01mfrom\u001b[39;00m \u001b[38;5;21;01mlangchain_community\u001b[39;00m\u001b[38;5;21;01m.\u001b[39;00m\u001b[38;5;21;01mdocument_loaders\u001b[39;00m\u001b[38;5;21;01m.\u001b[39;00m\u001b[38;5;21;01mpdf\u001b[39;00m \u001b[38;5;28;01mimport\u001b[39;00m (\n\u001b[0;32m    151\u001b[0m     AmazonTextractPDFLoader,\n\u001b[0;32m    152\u001b[0m     MathpixPDFLoader,\n\u001b[1;32m   (...)\u001b[0m\n\u001b[0;32m    161\u001b[0m     UnstructuredPDFLoader,\n\u001b[0;32m    162\u001b[0m )\n\u001b[1;32m--> 163\u001b[0m \u001b[38;5;28;01mfrom\u001b[39;00m \u001b[38;5;21;01mlangchain_community\u001b[39;00m\u001b[38;5;21;01m.\u001b[39;00m\u001b[38;5;21;01mdocument_loaders\u001b[39;00m\u001b[38;5;21;01m.\u001b[39;00m\u001b[38;5;21;01mpebblo\u001b[39;00m \u001b[38;5;28;01mimport\u001b[39;00m PebbloSafeLoader\n\u001b[0;32m    164\u001b[0m \u001b[38;5;28;01mfrom\u001b[39;00m \u001b[38;5;21;01mlangchain_community\u001b[39;00m\u001b[38;5;21;01m.\u001b[39;00m\u001b[38;5;21;01mdocument_loaders\u001b[39;00m\u001b[38;5;21;01m.\u001b[39;00m\u001b[38;5;21;01mpolars_dataframe\u001b[39;00m \u001b[38;5;28;01mimport\u001b[39;00m PolarsDataFrameLoader\n\u001b[0;32m    165\u001b[0m \u001b[38;5;28;01mfrom\u001b[39;00m \u001b[38;5;21;01mlangchain_community\u001b[39;00m\u001b[38;5;21;01m.\u001b[39;00m\u001b[38;5;21;01mdocument_loaders\u001b[39;00m\u001b[38;5;21;01m.\u001b[39;00m\u001b[38;5;21;01mpowerpoint\u001b[39;00m \u001b[38;5;28;01mimport\u001b[39;00m UnstructuredPowerPointLoader\n",
      "File \u001b[1;32m~\\AppData\\Local\\Packages\\PythonSoftwareFoundation.Python.3.12_qbz5n2kfra8p0\\LocalCache\\local-packages\\Python312\\site-packages\\langchain_community\\document_loaders\\pebblo.py:5\u001b[0m\n\u001b[0;32m      3\u001b[0m \u001b[38;5;28;01mimport\u001b[39;00m \u001b[38;5;21;01mlogging\u001b[39;00m\n\u001b[0;32m      4\u001b[0m \u001b[38;5;28;01mimport\u001b[39;00m \u001b[38;5;21;01mos\u001b[39;00m\n\u001b[1;32m----> 5\u001b[0m \u001b[38;5;28;01mimport\u001b[39;00m \u001b[38;5;21;01mpwd\u001b[39;00m\n\u001b[0;32m      6\u001b[0m \u001b[38;5;28;01mimport\u001b[39;00m \u001b[38;5;21;01muuid\u001b[39;00m\n\u001b[0;32m      7\u001b[0m \u001b[38;5;28;01mfrom\u001b[39;00m \u001b[38;5;21;01mhttp\u001b[39;00m \u001b[38;5;28;01mimport\u001b[39;00m HTTPStatus\n",
      "\u001b[1;31mModuleNotFoundError\u001b[0m: No module named 'pwd'"
     ]
    }
   ],
   "source": [
    "from selenium.webdriver.chrome.service import Service\n",
    "from selenium import webdriver\n",
    "from selenium.webdriver.support.wait import WebDriverWait\n",
    "from selenium.webdriver.support import expected_conditions as EC\n",
    "from selenium.common.exceptions import TimeoutException\n",
    "\n",
    "from langchain.document_loaders import PyMuPDFLoader\n",
    "from langchain.retrievers import ArxivRetriever\n",
    "\n",
    "def scrape_data(url):\n",
    "    SCRAPED_DATA = dict()\n",
    "    service = Service(executable_path=\"chromedriver.exe\")\n",
    "    options = webdriver.ChromeOptions()\n",
    "    options.add_argument('--headless')  # Run Chrome in headless mode (no GUI)\n",
    "    options.add_argument('--ignore-certificate-errors')\n",
    "    options.add_argument(\"--enable-javascript\")\n",
    "    options.add_argument(\"--no-sandbox\")\n",
    "    options.add_experimental_option(\"prefs\", {\"download_restrictions\": 3})\n",
    "    options.add_experimental_option('excludeSwitches', ['enable-logging'])\n",
    "    driver = webdriver.Chrome(options=options, service=service)\n",
    "\n",
    "    print(f\"scraping url: {url}...\")\n",
    "    driver.get(url)\n",
    "\n",
    "    delay = 3\n",
    "    try:\n",
    "        WebDriverWait(driver, delay).until(\n",
    "            EC.presence_of_element_located((By.TAG_NAME, \"body\")))\n",
    "        print(f\"Page is ready!\")\n",
    "    except TimeoutException:\n",
    "        print(\"Loading took too much time!\")\n",
    "\n",
    "    # check if url is a pdf or arxiv link\n",
    "    if url.endswith(\".pdf\"):\n",
    "        loader = PyMuPDFLoader(url)\n",
    "        text = str(loader.load())\n",
    "    elif \"arxiv\" in url:\n",
    "        doc_num = url.split(\"/\")[-1]\n",
    "        retriever = ArxivRetriever(load_max_docs=2)\n",
    "        text = retriever.get_relevant_documents(query=doc_num)[0].page_content\n",
    "    else:\n",
    "        page_source = driver.execute_script(\"return document.body.outerHTML;\")\n",
    "        soup = BeautifulSoup(page_source, \"html.parser\")\n",
    "        soup.encode(\n",
    "            'utf-8', errors='ignore'\n",
    "        ).decode('utf-8')\n",
    "\n",
    "        # for script in soup([\"script\", \"style\"]):\n",
    "        #     script.extract()\n",
    "\n",
    "        text = \"\"\n",
    "        tags = [\"h1\", \"h2\", \"h3\", \"h4\", \"h5\", \"p\"]\n",
    "        for element in soup.find_all(tags):\n",
    "            text += element.text + \"\\n\"\n",
    "\n",
    "    # For Creating individual tokens from the website\n",
    "    lines = (line.strip() for line in text.splitlines())\n",
    "    chunks = (token.strip() for line in lines for token in line.split(\" \"))\n",
    "    tokens = \"\\n\".join(chunk for chunk in chunks if chunk)\n",
    "\n",
    "    SCRAPED_DATA[url] = tokens\n",
    "    print(\"scraped data added\")\n",
    "    driver.quit()"
   ]
  },
  {
   "cell_type": "code",
   "execution_count": 32,
   "metadata": {},
   "outputs": [
    {
     "ename": "ModuleNotFoundError",
     "evalue": "No module named 'pwd'",
     "output_type": "error",
     "traceback": [
      "\u001b[1;31m---------------------------------------------------------------------------\u001b[0m",
      "\u001b[1;31mModuleNotFoundError\u001b[0m                       Traceback (most recent call last)",
      "Cell \u001b[1;32mIn[32], line 1\u001b[0m\n\u001b[1;32m----> 1\u001b[0m \u001b[38;5;28;01mimport\u001b[39;00m \u001b[38;5;21;01mpwd\u001b[39;00m\n",
      "\u001b[1;31mModuleNotFoundError\u001b[0m: No module named 'pwd'"
     ]
    }
   ],
   "source": [
    "import pwd"
   ]
  },
  {
   "cell_type": "code",
   "execution_count": null,
   "metadata": {},
   "outputs": [],
   "source": []
  },
  {
   "cell_type": "code",
   "execution_count": null,
   "metadata": {},
   "outputs": [],
   "source": []
  },
  {
   "cell_type": "code",
   "execution_count": null,
   "metadata": {},
   "outputs": [],
   "source": []
  },
  {
   "cell_type": "code",
   "execution_count": null,
   "metadata": {},
   "outputs": [],
   "source": []
  },
  {
   "cell_type": "code",
   "execution_count": null,
   "metadata": {},
   "outputs": [],
   "source": []
  },
  {
   "cell_type": "code",
   "execution_count": null,
   "metadata": {},
   "outputs": [],
   "source": []
  },
  {
   "cell_type": "code",
   "execution_count": null,
   "metadata": {},
   "outputs": [],
   "source": []
  },
  {
   "cell_type": "code",
   "execution_count": null,
   "metadata": {},
   "outputs": [],
   "source": []
  },
  {
   "cell_type": "code",
   "execution_count": null,
   "metadata": {},
   "outputs": [],
   "source": []
  },
  {
   "cell_type": "code",
   "execution_count": null,
   "metadata": {},
   "outputs": [],
   "source": []
  },
  {
   "cell_type": "code",
   "execution_count": null,
   "metadata": {},
   "outputs": [],
   "source": []
  },
  {
   "cell_type": "code",
   "execution_count": null,
   "metadata": {},
   "outputs": [],
   "source": []
  },
  {
   "cell_type": "code",
   "execution_count": null,
   "metadata": {},
   "outputs": [],
   "source": []
  },
  {
   "cell_type": "code",
   "execution_count": null,
   "metadata": {},
   "outputs": [],
   "source": []
  },
  {
   "cell_type": "code",
   "execution_count": null,
   "metadata": {},
   "outputs": [],
   "source": []
  },
  {
   "cell_type": "code",
   "execution_count": null,
   "metadata": {},
   "outputs": [],
   "source": []
  },
  {
   "cell_type": "code",
   "execution_count": null,
   "metadata": {},
   "outputs": [],
   "source": []
  },
  {
   "cell_type": "code",
   "execution_count": null,
   "metadata": {},
   "outputs": [],
   "source": []
  },
  {
   "cell_type": "code",
   "execution_count": null,
   "metadata": {},
   "outputs": [],
   "source": []
  },
  {
   "cell_type": "code",
   "execution_count": 17,
   "metadata": {},
   "outputs": [],
   "source": [
    "import requests\n",
    "from bs4 import BeautifulSoup\n",
    "import pandas as pd\n",
    "\n",
    "# function to get industry information\n",
    "def scrape_industry_info():\n",
    "    industry_info = {\n",
    "        'Industry': 'Electric Vehicle Manufacturing',\n",
    "        'Size': 'Estimated $xxx billion',\n",
    "        'Growth Rate': 'Projected xx% CAGR',\n",
    "        'Trends': 'Growing adoption of EVs, increasing focus on sustainability',\n",
    "        'Key Players': ['Tesla', 'NIO', 'Rivian']\n",
    "    }\n",
    "    return industry_info\n",
    "\n",
    "# function to get competitor information\n",
    "def scrape_competitors_info():\n",
    "    competitors_info = [\n",
    "        {'Name': 'Tesla', 'Market Share': 'xx%', 'Products/Services': 'Electric vehicles, energy products', 'Pricing Strategy': 'Premium pricing', 'Marketing Efforts': 'High-profile events, social media campaigns'},\n",
    "        {'Name': 'NIO', 'Market Share': 'xx%', 'Products/Services': 'Electric vehicles, battery swapping', 'Pricing Strategy': 'Competitive pricing', 'Marketing Efforts': 'Brand ambassadors, digital marketing'},\n",
    "        {'Name': 'Rivian', 'Market Share': 'xx%', 'Products/Services': 'Electric vehicles, electric vans, electric trucks', 'Pricing Strategy': 'Premium pricing', 'Marketing Efforts': 'Partnerships with Amazon, adventure-focused marketing'}\n",
    "    ]\n",
    "    return competitors_info\n",
    "\n",
    "    # fuction to get market trends\n",
    "def scrape_market_trends():\n",
    "    market_trends = [\n",
    "        'Increasing demand for electric vehicles (EVs)',\n",
    "        'Advancements in battery technology',\n",
    "        'Shift towards autonomous driving technology',\n",
    "        'Rising interest in sustainable transportation solutions' \n",
    "        ]\n",
    "    return market_trends\n",
    "\n",
    "# function to get financial performance data\n",
    "def scrape_financial_performance():\n",
    "    financial_data = {\n",
    "        'Revenue': '$xxx million',\n",
    "        'Profit Margins': 'xx%',\n",
    "        'Return on Investment': 'xx%',\n",
    "        'Expense Structure': {'R&D': 'xx%', 'Marketing': 'xx%', 'Operations': 'xx%'}\n",
    "    }\n",
    "    return financial_data\n",
    "\n",
    "def main():\n",
    "    industry_info = scrape_industry_info()\n",
    "    competitors_info = scrape_competitors_info()\n",
    "    market_trends = scrape_market_trends()\n",
    "    financial_performance = scrape_financial_performance()\n",
    "    data = {\n",
    "        'Category': ['Industry Information', 'Competitors Information', 'Market Trends', 'Financial Performance'],\n",
    "        'Data': [industry_info, competitors_info, market_trends, financial_performance]\n",
    "    }\n",
    "    df = pd.DataFrame(data)\n",
    "\n",
    "    df.to_csv('canoo_case_study_data.csv', index=False)\n",
    "    return df\n",
    "\n",
    "df = main()\n"
   ]
  },
  {
   "cell_type": "code",
   "execution_count": 18,
   "metadata": {},
   "outputs": [
    {
     "data": {
      "text/html": [
       "<div>\n",
       "<style scoped>\n",
       "    .dataframe tbody tr th:only-of-type {\n",
       "        vertical-align: middle;\n",
       "    }\n",
       "\n",
       "    .dataframe tbody tr th {\n",
       "        vertical-align: top;\n",
       "    }\n",
       "\n",
       "    .dataframe thead th {\n",
       "        text-align: right;\n",
       "    }\n",
       "</style>\n",
       "<table border=\"1\" class=\"dataframe\">\n",
       "  <thead>\n",
       "    <tr style=\"text-align: right;\">\n",
       "      <th></th>\n",
       "      <th>Category</th>\n",
       "      <th>Data</th>\n",
       "    </tr>\n",
       "  </thead>\n",
       "  <tbody>\n",
       "    <tr>\n",
       "      <th>0</th>\n",
       "      <td>Industry Information</td>\n",
       "      <td>{'Industry': 'Electric Vehicle Manufacturing',...</td>\n",
       "    </tr>\n",
       "    <tr>\n",
       "      <th>1</th>\n",
       "      <td>Competitors Information</td>\n",
       "      <td>[{'Name': 'Tesla', 'Market Share': 'xx%', 'Pro...</td>\n",
       "    </tr>\n",
       "    <tr>\n",
       "      <th>2</th>\n",
       "      <td>Market Trends</td>\n",
       "      <td>[Increasing demand for electric vehicles (EVs)...</td>\n",
       "    </tr>\n",
       "    <tr>\n",
       "      <th>3</th>\n",
       "      <td>Financial Performance</td>\n",
       "      <td>{'Revenue': '$xxx million', 'Profit Margins': ...</td>\n",
       "    </tr>\n",
       "  </tbody>\n",
       "</table>\n",
       "</div>"
      ],
      "text/plain": [
       "                  Category                                               Data\n",
       "0     Industry Information  {'Industry': 'Electric Vehicle Manufacturing',...\n",
       "1  Competitors Information  [{'Name': 'Tesla', 'Market Share': 'xx%', 'Pro...\n",
       "2            Market Trends  [Increasing demand for electric vehicles (EVs)...\n",
       "3    Financial Performance  {'Revenue': '$xxx million', 'Profit Margins': ..."
      ]
     },
     "execution_count": 18,
     "metadata": {},
     "output_type": "execute_result"
    }
   ],
   "source": [
    "df"
   ]
  },
  {
   "cell_type": "code",
   "execution_count": null,
   "metadata": {},
   "outputs": [],
   "source": []
  }
 ],
 "metadata": {
  "kernelspec": {
   "display_name": "Python 3",
   "language": "python",
   "name": "python3"
  },
  "language_info": {
   "codemirror_mode": {
    "name": "ipython",
    "version": 3
   },
   "file_extension": ".py",
   "mimetype": "text/x-python",
   "name": "python",
   "nbconvert_exporter": "python",
   "pygments_lexer": "ipython3",
   "version": "3.12.2"
  }
 },
 "nbformat": 4,
 "nbformat_minor": 2
}
